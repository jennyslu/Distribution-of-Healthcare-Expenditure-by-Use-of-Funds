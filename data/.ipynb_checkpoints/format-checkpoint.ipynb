{
 "cells": [
  {
   "cell_type": "code",
   "execution_count": 12,
   "metadata": {
    "collapsed": false
   },
   "outputs": [],
   "source": [
    "import csv\n",
    "\n",
    "with open('data.csv', 'r', newline = '') as csvfile:\n",
    "    reader = csv.DictReader(csvfile)\n",
    "    with open('formatted_data.csv', 'w', newline = '') as writerfile:\n",
    "        for row in reader:\n",
    "            writer = csv.writer(writerfile, delimiter = ',')\n",
    "            writer.writerow([row['Year'], row['Hospitals'], row['Sector'], \"Hospital\"])\n",
    "            writer.writerow([row['Year'], row['Other  Institutions'], row['Sector'], \"Other Institutions\"])\n",
    "            writer.writerow([row['Year'], row['Physicians'], row['Sector'], \"Physicians\"])\n",
    "            writer.writerow([row['Year'], row['Other Professionals'], row['Sector'], \"Other Professionals\"])\n",
    "            writer.writerow([row['Year'], row['Drugs'], row['Sector'], \"Drugs\"])\n",
    "            writer.writerow([row['Year'], row['Capital'], row['Sector'], \"Capital\"])\n",
    "            writer.writerow([row['Year'], row['Public Health '], row['Sector'], \"Public Health\"])\n",
    "            writer.writerow([row['Year'], row['Administration'], row['Sector'], \"Administration\"])\n",
    "            writer.writerow([row['Year'], row['Other Health Spending'], row['Sector'], \"Other Health Spending\"])\n"
   ]
  }
 ],
 "metadata": {
  "kernelspec": {
   "display_name": "Python 3",
   "language": "python",
   "name": "python3"
  },
  "language_info": {
   "codemirror_mode": {
    "name": "ipython",
    "version": 3
   },
   "file_extension": ".py",
   "mimetype": "text/x-python",
   "name": "python",
   "nbconvert_exporter": "python",
   "pygments_lexer": "ipython3",
   "version": "3.5.1"
  }
 },
 "nbformat": 4,
 "nbformat_minor": 0
}
